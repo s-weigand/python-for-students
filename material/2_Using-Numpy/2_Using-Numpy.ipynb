{
 "cells": [
  {
   "cell_type": "markdown",
   "metadata": {},
   "source": [
    "# Using NumPy"
   ]
  },
  {
   "cell_type": "markdown",
   "metadata": {},
   "source": [
    "## What is NumPy?\n",
    "\n",
    "advantages to python lists, how loops are done, in general, types, fix size\n",
    "\n",
    "\n",
    "NumPy is the fundamental package for scientific computing with Python. It contains among other things:\n",
    "\n",
    "* a powerful N-dimensional array object\n",
    "\n",
    "* sophisticated (broadcasting) functions\n",
    "\n",
    "* tools for integrating C/C++ and Fortran code\n",
    "\n",
    "* useful linear algebra, Fourier transform, and random number capabilities\n",
    "\n",
    "Besides its obvious scientific uses, NumPy can also be used as an efficient multi-dimensional container of generic data. Arbitrary data-types can be defined. This allows NumPy to seamlessly and speedily integrate with a wide variety of databases\\[[1](https://numpy.org/)\\].s\n",
    "\n",
    "\n",
    "Here, we describe aspects of N-d array computation that are within scope for NumPy development. This is not an aspirational definition of where NumPy should aim, but instead captures the status quo—areas which we have decided to continue supporting, at least for the time being.\n",
    "\n",
    "* In-memory, N-dimensional, homogeneously typed (single pointer + strided) arrays on CPUs\n",
    "\n",
    "  * Support for a wide range of data types\n",
    "  \n",
    "  * Not specialized hardware such as GPUs\n",
    "\n",
    "  * But, do support wide range of CPUs (e.g. ARM, PowerX)\n",
    "\n",
    "* Higher level APIs for N-dimensional arrays\n",
    "\n",
    "  * NumPy is a de facto standard for array APIs in Python\n",
    "\n",
    "  * Indexing and fast iteration over elements (ufunc)\n",
    "\n",
    "  * Interoperability protocols with other data container implementations (like __array_ufunc__).\n",
    "\n",
    "* Python API and a C API to the ndarray’s methods and attributes.\n",
    "\n",
    "* Other specialized types or uses of N-dimensional arrays:\n",
    "\n",
    "  * Masked arrays\n",
    "\n",
    "  * Structured arrays (informally known as record arrays)\n",
    "\n",
    "  * Memory mapped arrays\n",
    "\n",
    "  * Historically, NumPy has included the following basic functionality in support of scientific computation. We intend to keep supporting (but not to expand) what is currently included:\n",
    "\n",
    "  * Linear algebra\n",
    "\n",
    "  * Fast Fourier transforms and windowing\n",
    "\n",
    "  * Pseudo-random number generators\n",
    "\n",
    "  * Polynomial fitting\n",
    "\n",
    "* NumPy provides some infrastructure for other packages in the scientific Python ecosystem:\n",
    "\n",
    "  * numpy.distutils (build support for C++, Fortran, BLAS/LAPACK, and other relevant libraries for scientific computing\n",
    "\n",
    "  * f2py (generating bindings for Fortran code)\n",
    "\n",
    "  * testing utilities\n",
    "\n",
    "* Speed: we take performance concerns seriously and aim to execute operations on large arrays with similar performance as native C code. That said, where conflict arises, maintenance and portability take precedence over performance. We aim to prevent regressions where possible (e.g., through asv)."
   ]
  },
  {
   "cell_type": "markdown",
   "metadata": {},
   "source": [
    "## Creating arrays\n",
    "\n",
    "So, the effort of NumPy is providing all operations for arrays and handling N-dimensional arrays (\"ndarray\") as effective and near to the hardware as possible.\n",
    "Let us start with just creating some ndarrays"
   ]
  },
  {
   "cell_type": "code",
   "execution_count": 1,
   "metadata": {},
   "outputs": [],
   "source": [
    "import numpy as np\n",
    "\n",
    "a = np.array([1, 2, 3])\n",
    "b = np.array([1.0, 2.0, 11.0, 22])\n",
    "c = np.array([np.pi, 0, 0.0, 2])\n",
    "d = np.array([np.pi, 0, 0.0, 2], dtype=int)\n",
    "e = np.array([[2, 4], [np.cos(np.pi/2), 3], [1, 2], [3, 4]])\n",
    "f = np.array([[2, 4],\n",
    "             [np.cos(np.pi/2), 3],\n",
    "             [1, 2],\n",
    "             [3, 4]])\n",
    "g = np.array([1, 2+2j, 3], dtype=complex)"
   ]
  },
  {
   "cell_type": "markdown",
   "execution_count": null,
   "metadata": {},
   "outputs": [],
   "source": [
    "Every userinitialized ndarray in NumPy needs to be enclosed in square brackets ``[ .... ]``. The square brackets indicates NumPy, how the shape and dimensions of the ndarray is going to be. NumPy provides a couple of methods for creating generic ndarrays, like filling each elements with zeros, ones, diagonal entries or linear spaced values or constant value filled matrices."
   ]
  },
  {
   "cell_type": "markdown",
   "execution_count": null,
   "metadata": {},
   "outputs": [],
   "source": [
    "### \"Ones\" ndarray\n",
    "To create ndarrays filled with only \"1\", NumPy provides its method ``np.ones()``. To alter the shape of the ones-ndarray, it just needs to pass the shape information as arguement to the ones method. For example, 2 rows and 4 columns are desired, the call would look like"
   ]
  },
  {
   "cell_type": "code",
   "execution_count": 2,
   "metadata": {},
   "outputs": [
    {
     "data": {
      "text/plain": "array([[1., 1., 1., 1.],\n       [1., 1., 1., 1.]])"
     },
     "execution_count": 2,
     "metadata": {},
     "output_type": "execute_result"
    }
   ],
   "source": [
    "np.ones((2, 4))"
   ]
  },
  {
   "cell_type": "markdown",
   "execution_count": null,
   "metadata": {},
   "outputs": [],
   "source": [
    "### \"Zeros\" ndarray\n",
    "In general, an ndarray created by the zeros method works like using the ones method, except from filling the ndarray with zeros instead of ones."
   ]
  },
  {
   "cell_type": "code",
   "execution_count": 3,
   "metadata": {},
   "outputs": [
    {
     "data": {
      "text/plain": "array([[0., 0., 0.],\n       [0., 0., 0.],\n       [0., 0., 0.],\n       [0., 0., 0.],\n       [0., 0., 0.],\n       [0., 0., 0.]])"
     },
     "execution_count": 3,
     "metadata": {},
     "output_type": "execute_result"
    }
   ],
   "source": [
    "np.zeros((6, 3))"
   ]
  },
  {
   "cell_type": "markdown",
   "execution_count": null,
   "metadata": {},
   "outputs": [],
   "source": [
    "### \"Eye\" ndarray\n",
    "The eye ndarray method creates identity ndarrays or asymmetric ndarrays filled with zeros, except a desired diagonal, which is filled with ones."
   ]
  },
  {
   "cell_type": "code",
   "execution_count": 4,
   "metadata": {},
   "outputs": [
    {
     "data": {
      "text/plain": "array([[1., 0., 0., 0.],\n       [0., 1., 0., 0.],\n       [0., 0., 1., 0.],\n       [0., 0., 0., 1.]])"
     },
     "execution_count": 4,
     "metadata": {},
     "output_type": "execute_result"
    }
   ],
   "source": [
    "np.eye(4)"
   ]
  },
  {
   "cell_type": "code",
   "execution_count": 5,
   "metadata": {},
   "outputs": [
    {
     "data": {
      "text/plain": "array([[0., 0., 0., 1., 0., 0.],\n       [0., 0., 0., 0., 1., 0.],\n       [0., 0., 0., 0., 0., 1.],\n       [0., 0., 0., 0., 0., 0.],\n       [0., 0., 0., 0., 0., 0.]])"
     },
     "execution_count": 5,
     "metadata": {},
     "output_type": "execute_result"
    }
   ],
   "source": [
    "np.eye(5, 6, 3)"
   ]
  },
  {
   "cell_type": "markdown",
   "execution_count": null,
   "metadata": {},
   "outputs": [],
   "source": [
    "### \"linspace\" ndarray"
   ]
  },
  {
   "cell_type": "code",
   "execution_count": null,
   "metadata": {},
   "outputs": [],
   "source": []
  },
  {
   "cell_type": "markdown",
   "execution_count": 45,
   "metadata": {},
   "outputs": [],
   "source": [
    "### \"Full\" ndarray"
   ]
  },
  {
   "cell_type": "code",
   "execution_count": 6,
   "metadata": {},
   "outputs": [
    {
     "data": {
      "text/plain": "array([[1.23, 1.23, 1.23],\n       [1.23, 1.23, 1.23],\n       [1.23, 1.23, 1.23],\n       [1.23, 1.23, 1.23],\n       [1.23, 1.23, 1.23]])"
     },
     "execution_count": 6,
     "metadata": {},
     "output_type": "execute_result"
    }
   ],
   "source": [
    "shape = (5, 3)\n",
    "np.full(shape, 1.23)"
   ]
  },
  {
   "cell_type": "markdown",
   "metadata": {},
   "source": [
    "It is possible to retrieve many ndarray attributes of created ndarrays, a classy way would be just to display the values of ndarrays. Have a try yourself and generate output for other ndarrays apart from ``a``."
   ]
  },
  {
   "cell_type": "code",
   "execution_count": 7,
   "metadata": {},
   "outputs": [
    {
     "data": {
      "text/plain": "array([1, 2, 3])"
     },
     "execution_count": 7,
     "metadata": {},
     "output_type": "execute_result"
    }
   ],
   "source": [
    "a"
   ]
  },
  {
   "cell_type": "markdown",
   "execution_count": null,
   "metadata": {},
   "outputs": [],
   "source": [
    "For better readability, it is also possible to use the ``print()`` method."
   ]
  },
  {
   "cell_type": "code",
   "execution_count": 8,
   "metadata": {},
   "outputs": [
    {
     "name": "stdout",
     "output_type": "stream",
     "text": "[1 2 3]\n"
    }
   ],
   "source": [
    "print(a)"
   ]
  },
  {
   "cell_type": "markdown",
   "metadata": {},
   "source": [
    "That was a pretty obvious call, this is nothing new because all variables can be checked like that in python. Other retrievable information are ``shape``, ``ndim``, ``size`` and ``dtype``. ``shape`` gives information about the length of each dimension, ``ndim`` tells the user how many dimensions the ndarray exists, ``size`` gives the count of how many elements the ndarray contains and ``dtype`` returns the datatype of the values in the ndarray."
   ]
  },
  {
   "cell_type": "code",
   "execution_count": 9,
   "metadata": {},
   "outputs": [
    {
     "data": {
      "text/plain": "(4, 2)"
     },
     "execution_count": 9,
     "metadata": {},
     "output_type": "execute_result"
    }
   ],
   "source": [
    "e.shape"
   ]
  },
  {
   "cell_type": "code",
   "execution_count": 10,
   "metadata": {},
   "outputs": [
    {
     "data": {
      "text/plain": "2"
     },
     "execution_count": 10,
     "metadata": {},
     "output_type": "execute_result"
    }
   ],
   "source": [
    "e.ndim"
   ]
  },
  {
   "cell_type": "code",
   "execution_count": 11,
   "metadata": {},
   "outputs": [
    {
     "data": {
      "text/plain": "8"
     },
     "execution_count": 11,
     "metadata": {},
     "output_type": "execute_result"
    }
   ],
   "source": [
    "e.size"
   ]
  },
  {
   "cell_type": "code",
   "execution_count": 12,
   "metadata": {},
   "outputs": [
    {
     "data": {
      "text/plain": "dtype('float64')"
     },
     "execution_count": 12,
     "metadata": {},
     "output_type": "execute_result"
    }
   ],
   "source": [
    "e.dtype"
   ]
  },
  {
   "cell_type": "markdown",
   "metadata": {},
   "source": [
    "# References"
   ]
  }
 ],
 "metadata": {
  "file_extension": ".py",
  "kernelspec": {
   "display_name": "Python 3",
   "language": "python",
   "name": "python3"
  },
  "language_info": {
   "codemirror_mode": {
    "name": "ipython",
    "version": 3
   },
   "file_extension": ".py",
   "mimetype": "text/x-python",
   "name": "python",
   "nbconvert_exporter": "python",
   "pygments_lexer": "ipython3",
   "version": "3.7.3"
  },
  "mimetype": "text/x-python",
  "name": "python",
  "npconvert_exporter": "python",
  "pygments_lexer": "ipython3",
  "version": 3
 },
 "nbformat": 4,
 "nbformat_minor": 2
}