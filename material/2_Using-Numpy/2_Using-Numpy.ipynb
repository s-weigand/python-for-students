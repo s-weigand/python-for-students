{
 "cells": [
  {
   "cell_type": "markdown",
   "metadata": {},
   "source": [
    "# Using NumPy"
   ]
  },
  {
   "cell_type": "markdown",
   "metadata": {},
   "source": [
    "## What is NumPy?\n",
    "\n",
    "advantages to python lists, how loops are done, in general, types, fix size\n",
    "\n",
    "\n",
    "NumPy is the fundamental package for scientific computing with Python. It contains among other things:\n",
    "\n",
    "* a powerful N-dimensional array object\n",
    "\n",
    "* sophisticated (broadcasting) functions\n",
    "\n",
    "* tools for integrating C/C++ and Fortran code\n",
    "\n",
    "* useful linear algebra, Fourier transform, and random number capabilities\n",
    "\n",
    "Besides its obvious scientific uses, NumPy can also be used as an efficient multi-dimensional container of generic data. Arbitrary data-types can be defined. This allows NumPy to seamlessly and speedily integrate with a wide variety of databases\\[[1](https://numpy.org/)\\].s\n",
    "\n",
    "\n",
    "Here, we describe aspects of N-d array computation that are within scope for NumPy development. This is not an aspirational definition of where NumPy should aim, but instead captures the status quo—areas which we have decided to continue supporting, at least for the time being.\n",
    "\n",
    "* In-memory, N-dimensional, homogeneously typed (single pointer + strided) arrays on CPUs\n",
    "\n",
    "  * Support for a wide range of data types\n",
    "  \n",
    "  * Not specialized hardware such as GPUs\n",
    "\n",
    "  * But, do support wide range of CPUs (e.g. ARM, PowerX)\n",
    "\n",
    "* Higher level APIs for N-dimensional arrays\n",
    "\n",
    "  * NumPy is a de facto standard for array APIs in Python\n",
    "\n",
    "  * Indexing and fast iteration over elements (ufunc)\n",
    "\n",
    "  * Interoperability protocols with other data container implementations (like __array_ufunc__).\n",
    "\n",
    "* Python API and a C API to the ndarray’s methods and attributes.\n",
    "\n",
    "* Other specialized types or uses of N-dimensional arrays:\n",
    "\n",
    "  * Masked arrays\n",
    "\n",
    "  * Structured arrays (informally known as record arrays)\n",
    "\n",
    "  * Memory mapped arrays\n",
    "\n",
    "  * Historically, NumPy has included the following basic functionality in support of scientific computation. We intend to keep supporting (but not to expand) what is currently included:\n",
    "\n",
    "  * Linear algebra\n",
    "\n",
    "  * Fast Fourier transforms and windowing\n",
    "\n",
    "  * Pseudo-random number generators\n",
    "\n",
    "  * Polynomial fitting\n",
    "\n",
    "* NumPy provides some infrastructure for other packages in the scientific Python ecosystem:\n",
    "\n",
    "  * numpy.distutils (build support for C++, Fortran, BLAS/LAPACK, and other relevant libraries for scientific computing\n",
    "\n",
    "  * f2py (generating bindings for Fortran code)\n",
    "\n",
    "  * testing utilities\n",
    "\n",
    "* Speed: we take performance concerns seriously and aim to execute operations on large arrays with similar performance as native C code. That said, where conflict arises, maintenance and portability take precedence over performance. We aim to prevent regressions where possible (e.g., through asv)."
   ]
  },
  {
   "cell_type": "markdown",
   "metadata": {},
   "source": [
    "# Introduction\n",
    "\n",
    "So, the effort of NumPy is handling N-dimensional arrays as effective and near to the hardware as possible."
   ]
  },
  {
   "cell_type": "markdown",
   "metadata": {},
   "source": [
    "# References"
   ]
  },
  {
   "cell_type": "code",
   "execution_count": null,
   "metadata": {},
   "outputs": [],
   "source": []
  }
 ],
 "metadata": {
  "file_extension": ".py",
  "kernelspec": {
   "display_name": "Python 3",
   "language": "python",
   "name": "python3"
  },
  "language_info": {
   "codemirror_mode": {
    "name": "ipython",
    "version": 3
   },
   "file_extension": ".py",
   "mimetype": "text/x-python",
   "name": "python",
   "nbconvert_exporter": "python",
   "pygments_lexer": "ipython3",
   "version": "3.7.3"
  },
  "mimetype": "text/x-python",
  "name": "python",
  "npconvert_exporter": "python",
  "pygments_lexer": "ipython3",
  "version": 3
 },
 "nbformat": 4,
 "nbformat_minor": 2
}
